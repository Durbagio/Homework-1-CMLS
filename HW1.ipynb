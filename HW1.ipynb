{
  "nbformat": 4,
  "nbformat_minor": 0,
  "metadata": {
    "colab": {
      "name": "Project 1.ipynb",
      "provenance": [],
      "collapsed_sections": [],
      "include_colab_link": true
    },
    "kernelspec": {
      "name": "python3",
      "display_name": "Python 3"
    }
  },
  "cells": [
    {
      "cell_type": "markdown",
      "metadata": {
        "id": "view-in-github",
        "colab_type": "text"
      },
      "source": [
        "<a href=\"https://colab.research.google.com/github/Durbagio/Homework-1-CMLS/blob/master/HW1.ipynb\" target=\"_parent\"><img src=\"https://colab.research.google.com/assets/colab-badge.svg\" alt=\"Open In Colab\"/></a>"
      ]
    },
    {
      "cell_type": "markdown",
      "metadata": {
        "id": "Wi9q4sVgVxT_",
        "colab_type": "text"
      },
      "source": [
        "# Project 1: Audio Effects"
      ]
    },
    {
      "cell_type": "markdown",
      "metadata": {
        "id": "Efexb4biWKeo",
        "colab_type": "text"
      },
      "source": [
        "# General Discussion"
      ]
    },
    {
      "cell_type": "markdown",
      "metadata": {
        "id": "Fx4Rr9LCVEDm",
        "colab_type": "text"
      },
      "source": [
        "### Importing libraries and database"
      ]
    },
    {
      "cell_type": "code",
      "metadata": {
        "id": "BXv2yILl3O-X",
        "colab_type": "code",
        "colab": {}
      },
      "source": [
        "import librosa\n",
        "import numpy as np\n",
        "import os\n",
        "import matplotlib.pyplot as plt\n",
        "import sklearn.svm\n",
        "import IPython\n",
        "import IPython.display as ipd\n",
        "import scipy as sp\n",
        "import multiprocessing as mp"
      ],
      "execution_count": 0,
      "outputs": []
    },
    {
      "cell_type": "markdown",
      "metadata": {
        "id": "aaSqeNv2HSCo",
        "colab_type": "text"
      },
      "source": [
        "Remember to create a shortcut in your drive to the shared \"Project 1\" folder"
      ]
    },
    {
      "cell_type": "code",
      "metadata": {
        "id": "qGUmSUxefpnK",
        "colab_type": "code",
        "outputId": "d3073867-07eb-498c-e611-6d61335f9c2a",
        "colab": {
          "base_uri": "https://localhost:8080/",
          "height": 35
        }
      },
      "source": [
        "from google.colab import drive\n",
        "drive.mount('/content/drive')"
      ],
      "execution_count": 13,
      "outputs": [
        {
          "output_type": "stream",
          "text": [
            "Drive already mounted at /content/drive; to attempt to forcibly remount, call drive.mount(\"/content/drive\", force_remount=True).\n"
          ],
          "name": "stdout"
        }
      ]
    },
    {
      "cell_type": "markdown",
      "metadata": {
        "id": "v5V_h9P-CV33",
        "colab_type": "text"
      },
      "source": [
        "Dataset cardinality"
      ]
    },
    {
      "cell_type": "code",
      "metadata": {
        "id": "LvsKiwXBUyFx",
        "colab_type": "code",
        "outputId": "700b1795-b9b4-497d-c981-06f7afdf65e1",
        "colab": {
          "base_uri": "https://localhost:8080/",
          "height": 170
        }
      },
      "source": [
        "classes = ['NoFX', 'Distortion', 'Tremolo']\n",
        "\n",
        "for c in classes:\n",
        "    root='/content/drive/My Drive/Project 1/Dataset/Gitarre polyphon/Samples/{}'.format(c)\n",
        "    class_files = [f for f in os.listdir(root) if f.endswith('.wav')]\n",
        "    print('Guitar poly, {},'.format(c), len(class_files))\n",
        "    root='/content/drive/My Drive/Project 1/Dataset/Gitarre monophon/Samples/{}'.format(c)\n",
        "    class_files = [f for f in os.listdir(root) if f.endswith('.wav')]\n",
        "    print('Guitar mono, {},'.format(c), len(class_files))\n",
        "    root='/content/drive/My Drive/Project 1/Dataset/Bass monophon/Samples/{}'.format(c)\n",
        "    class_files = [f for f in os.listdir(root) if f.endswith('.wav')]\n",
        "    print('Bass mono, {},'.format(c), len(class_files))"
      ],
      "execution_count": 0,
      "outputs": [
        {
          "output_type": "stream",
          "text": [
            "Guitar mono, NoFX, 420\n",
            "Guitar poly, NoFX, 624\n",
            "Bass mono, NoFX, 624\n",
            "Guitar mono, Distortion, 1260\n",
            "Guitar poly, Distortion, 1872\n",
            "Bass mono, Distortion, 1872\n",
            "Guitar mono, Tremolo, 1260\n",
            "Guitar poly, Tremolo, 1872\n",
            "Bass mono, Tremolo, 1872\n"
          ],
          "name": "stdout"
        }
      ]
    },
    {
      "cell_type": "markdown",
      "metadata": {
        "id": "a8E7yikIVImZ",
        "colab_type": "text"
      },
      "source": [
        "### Feature Computation\n",
        "Spectral Rolloff, Spectral RMS, Zero Crossing Rate, Spectral Centroid, Spectral Bandwidth, Spectral Contrast, Spectral Flatness, Harmonic RMS, Hi-End RMS, Mel Spectrogram, Mel-frequency Cepstral Coefficients (14)."
      ]
    },
    {
      "cell_type": "code",
      "metadata": {
        "id": "5OvI2oo1_Mh4",
        "colab_type": "code",
        "colab": {}
      },
      "source": [
        "def harmonic_rms (signal):\n",
        "    # Extract the harmonics\n",
        "    harmonics = librosa.effects.harmonic(signal)\n",
        "    # Calculate the rms of the harmonics only\n",
        "    rms_value = np.mean(librosa.feature.rms(harmonics))\n",
        "\n",
        "    return rms_value"
      ],
      "execution_count": 0,
      "outputs": []
    },
    {
      "cell_type": "code",
      "metadata": {
        "id": "IUHDuk4x_4rt",
        "colab_type": "code",
        "colab": {}
      },
      "source": [
        "def hi_end_rms (signal, Fs):\n",
        "\n",
        "    # Setup window values and allocate array\n",
        "    win_length = int(np.floor(0.01 * Fs))\n",
        "    hop_size = int(np.floor(0.0075 * Fs))\n",
        "    window = sp.signal.get_window(window='hanning', Nx=win_length)\n",
        "    win_number = int(np.floor((signal.shape[0] - win_length) / hop_size))\n",
        "\n",
        "    rms_frame = np.zeros((win_number))\n",
        "\n",
        "    for i in np.arange(win_number):\n",
        "        # Compute the frame\n",
        "        frame = signal[i * hop_size : i * hop_size + win_length]\n",
        "        frame_wind = frame * window\n",
        "    \n",
        "        # Compute the spectrogram of this frame\n",
        "        spec = np.fft.fft(frame_wind)\n",
        "        nyquist = int(np.floor(spec.shape[0] / 2))\n",
        "        spec = spec[1:nyquist]\n",
        "\n",
        "        # Design the high pass\n",
        "        filt = sp.signal.butter(2, 1200, fs=Fs, btype='highpass', output='sos')\n",
        "        # Filter the signal\n",
        "        hi_end = sp.signal.sosfilt(filt, spec)\n",
        "        # Compute the rms value\n",
        "        rms_frame = librosa.feature.rms(y=None, S=spec)\n",
        "    \n",
        "    # Average the value of whole signal\n",
        "    rms_hi_end = np.mean(rms_frame)\n",
        "\n",
        "    return rms_hi_end   "
      ],
      "execution_count": 0,
      "outputs": []
    },
    {
      "cell_type": "code",
      "metadata": {
        "id": "nrEJTwnvKA6z",
        "colab_type": "code",
        "outputId": "b75d4f4b-763d-4ddc-c896-2641a9aedede",
        "colab": {
          "base_uri": "https://localhost:8080/",
          "height": 71
        }
      },
      "source": [
        "classes = ['NoFX', 'Distortion', 'Tremolo']\n",
        "class_features={'NoFX':[],'Distortion':[],'Tremolo':[]}\n",
        "\n",
        "frame_len= 8192\n",
        "win_len=2048 \n",
        "hop_len=512\n",
        "\n",
        "# Number of Mel-frequency cepstral coefficients\n",
        "n_mfcc = 14 \n",
        "n_features = 10+n_mfcc\n",
        "\n",
        "feature_names = ['Spectral Rolloff','RMS','ZCR','Spectral Centroid', 'Bandwidth', 'Spectral Contrast', 'Spectral Flatness', 'Harmonic RMS', 'High End RMS', 'MEL Spectrogram', 'MFCC1','MFCC2','MFCC3','MFCC4','MFCC5','MFCC6','MFCC7','MFCC8','MFCC9','MFCC10','MFCC11','MFCC12','MFCC13','MFCC14']\n",
        "\n",
        "for c in classes:\n",
        "    # Find the folder (select between Guitar monophonic, Guitar poliphonic, Bass monophonic)\n",
        "    root='/content/drive/My Drive/Project 1/Dataset/Gitarre monophon/Samples/{}'.format(c)\n",
        "    # root='/content/drive/My Drive/Project 1/Dataset/Gitarre polyphon/Samples/{}'.format(c)\n",
        "    # root='/content/drive/My Drive/Project 1/Dataset/Bass monophon/Samples/{}'.format(c)\n",
        "    \n",
        "    # List the files\n",
        "    class_files = [f for f in os.listdir(root) if f.endswith('.wav')]\n",
        "    class_files = class_files[0: 600]\n",
        "\n",
        "    # Declare the number of feature and files and allocate the array\n",
        "    n_files = len(class_files)\n",
        "\n",
        "    features = np.zeros((n_files, n_features))\n",
        "\n",
        "    for index, f in enumerate(class_files):\n",
        "        # Load the file\n",
        "        audio, fs = librosa.load(os.path.join(root, f), sr=None)\n",
        "\n",
        "        # Compute the features, take the mean value on all the frames, save them in the features array\n",
        "        features[index, 0] = np.mean(librosa.feature.spectral_rolloff(y=audio, sr=fs, S=None, n_fft=win_len, hop_length=hop_len))\n",
        "        features[index, 1] = np.mean(librosa.feature.rms(y=audio, S=None, frame_length=win_len, hop_length=hop_len))\n",
        "        features[index, 2] = np.mean(librosa.feature.zero_crossing_rate(audio, frame_length=win_len, hop_length=hop_len))\n",
        "        features[index, 3] = np.mean(librosa.feature.spectral_centroid(y = audio,sr = fs,S = None,n_fft = win_len, hop_length = hop_len))\n",
        "        features[index, 4] = np.mean(librosa.feature.spectral_bandwidth(y = audio,sr = fs,S = None,n_fft = win_len, hop_length = hop_len))\n",
        "        features[index, 5] = np.mean(librosa.feature.spectral_contrast(y = audio,sr = fs,S = None,n_fft = win_len, hop_length = hop_len))\n",
        "        features[index, 6] = np.mean(librosa.feature.spectral_flatness(y = audio, S = None,n_fft = win_len, hop_length = hop_len))\n",
        "        features[index, 7] = harmonic_rms(audio)\n",
        "        features[index, 8] = hi_end_rms(audio, fs)\n",
        "        features[index, 9] = np.mean(librosa.feature.melspectrogram(y = audio, sr = fs, S = None,n_fft = win_len, hop_length = hop_len))\n",
        "        features[index, 10:] = np.mean(librosa.feature.mfcc(y=audio, sr=fs, S=None, n_mfcc=n_mfcc, dct_type=2, norm='ortho'), axis=1)\n",
        "\n",
        "    # Store features in the class features array\n",
        "    class_features[c] = features\n",
        "    print(\"Ok for class {}\".format(c))"
      ],
      "execution_count": 0,
      "outputs": [
        {
          "output_type": "stream",
          "text": [
            "Ok for class NoFX\n",
            "Ok for class Distortion\n",
            "Ok for class Tremolo\n"
          ],
          "name": "stdout"
        }
      ]
    },
    {
      "cell_type": "markdown",
      "metadata": {
        "id": "NixlgfP2QBiI",
        "colab_type": "text"
      },
      "source": [
        "### Implementing the model"
      ]
    },
    {
      "cell_type": "markdown",
      "metadata": {
        "id": "hdDyFapJRc-r",
        "colab_type": "text"
      },
      "source": [
        "DB"
      ]
    },
    {
      "cell_type": "code",
      "metadata": {
        "id": "9okR3KQ3Rrgo",
        "colab_type": "code",
        "colab": {}
      },
      "source": [
        "# Declaring the features matrix of each class (X) and its label (Y)\n",
        "\n",
        "# No effect\n",
        "X_noFX = class_features['NoFX']\n",
        "y_noFX = np.zeros((X_noFX.shape[0],))\n",
        "\n",
        "# Distortion\n",
        "X_Dist = class_features['Distortion']\n",
        "y_Dist = np.ones((X_Dist.shape[0],))\n",
        "\n",
        "# Tremolo\n",
        "X_Trem = class_features['Tremolo']\n",
        "y_Trem = np.ones((X_Trem.shape[0],))*2\n",
        "\n",
        "# Concatenate all (features and labels)\n",
        "X = np.concatenate((X_noFX, X_Dist, X_Trem), axis=0)\n",
        "Y = np.concatenate((y_noFX, y_Dist, y_Trem), axis = 0)"
      ],
      "execution_count": 0,
      "outputs": []
    },
    {
      "cell_type": "markdown",
      "metadata": {
        "id": "Nlo-C6uMxs_f",
        "colab_type": "text"
      },
      "source": [
        "#### SVC"
      ]
    },
    {
      "cell_type": "code",
      "metadata": {
        "id": "tdUGAvlyyGFN",
        "colab_type": "code",
        "colab": {}
      },
      "source": [
        "from sklearn.preprocessing import Normalizer, StandardScaler\n",
        "from sklearn.svm import SVC\n",
        "from sklearn.model_selection import cross_val_predict, StratifiedKFold, cross_val_score\n",
        "from sklearn.feature_selection import  SelectKBest\n",
        "from sklearn.metrics import classification_report, confusion_matrix\n",
        "from sklearn.pipeline import make_pipeline"
      ],
      "execution_count": 0,
      "outputs": []
    },
    {
      "cell_type": "markdown",
      "metadata": {
        "id": "5iSSNUfYg2ga",
        "colab_type": "text"
      },
      "source": [
        "All features"
      ]
    },
    {
      "cell_type": "code",
      "metadata": {
        "id": "KvcJlBb9grpX",
        "colab_type": "code",
        "outputId": "b7fa496b-0f46-47cd-a016-d8d30f76b018",
        "colab": {
          "base_uri": "https://localhost:8080/",
          "height": 197
        }
      },
      "source": [
        "# Defining the pipeline to avoid data leakage\n",
        "pipe = make_pipeline(StandardScaler(), SVC(C = 20, kernel = 'rbf', probability = True))\n",
        "\n",
        "# Define the cv split\n",
        "split = StratifiedKFold(n_splits=5, shuffle=True)\n",
        "\n",
        "# Train and predict\n",
        "svc_prediction = cross_val_predict(estimator = pipe, X = X, y = Y, cv=split)\n",
        "\n",
        "# Print the results\n",
        "classes1 = {'NoFX':0,'Distortion':1,'Tremolo':2}\n",
        "print(classification_report(Y, svc_prediction, target_names = classes1.keys()))"
      ],
      "execution_count": 18,
      "outputs": [
        {
          "output_type": "stream",
          "text": [
            "              precision    recall  f1-score   support\n",
            "\n",
            "        NoFX       0.99      0.98      0.98       600\n",
            "  Distortion       1.00      1.00      1.00       600\n",
            "     Tremolo       0.98      0.99      0.98       600\n",
            "\n",
            "    accuracy                           0.99      1800\n",
            "   macro avg       0.99      0.99      0.99      1800\n",
            "weighted avg       0.99      0.99      0.99      1800\n",
            "\n"
          ],
          "name": "stdout"
        }
      ]
    },
    {
      "cell_type": "code",
      "metadata": {
        "id": "4_IGKF71NESc",
        "colab_type": "code",
        "outputId": "d9147778-8511-41e4-c219-cfe59b4667c8",
        "colab": {
          "base_uri": "https://localhost:8080/",
          "height": 71
        }
      },
      "source": [
        "#Confusion matrix (SVM, all features)\n",
        "confusion_matrix(Y, svc_prediction)"
      ],
      "execution_count": 19,
      "outputs": [
        {
          "output_type": "execute_result",
          "data": {
            "text/plain": [
              "array([[586,   0,  14],\n",
              "       [  0, 600,   0],\n",
              "       [  6,   0, 594]])"
            ]
          },
          "metadata": {
            "tags": []
          },
          "execution_count": 19
        }
      ]
    },
    {
      "cell_type": "markdown",
      "metadata": {
        "id": "Ggg5aPFug4Ir",
        "colab_type": "text"
      },
      "source": [
        "Feature Selection"
      ]
    },
    {
      "cell_type": "code",
      "metadata": {
        "id": "C_3K3ZZsV2yF",
        "colab_type": "code",
        "outputId": "be1f91c5-9040-4b7c-dcb9-611dbf9ddcd3",
        "colab": {
          "base_uri": "https://localhost:8080/",
          "height": 297
        }
      },
      "source": [
        "#Define the cv split\n",
        "split = StratifiedKFold(n_splits=5, shuffle=True)\n",
        "\n",
        "#Selection of k best features:\n",
        "n_range = range(1, n_features)\n",
        "n_scores = []\n",
        "\n",
        "for i in n_range:\n",
        "    selector = SelectKBest(k = i)\n",
        "    # Defining the pipeline to avoid data leakage\n",
        "    pipe = make_pipeline(selector, StandardScaler(), SVC(C = 20, kernel = 'rbf', probability = True))\n",
        "\n",
        "    scores = cross_val_score(pipe, X=X, y=Y, cv=split, scoring='accuracy')\n",
        "    n_scores.append(scores.mean())\n",
        "\n",
        "# Plot accuracy vs K features selected\n",
        "plt.plot(n_range, n_scores)\n",
        "plt.xlabel('K for Selecting K features')\n",
        "plt.ylabel('Cross-Validated Accuracy')"
      ],
      "execution_count": 24,
      "outputs": [
        {
          "output_type": "execute_result",
          "data": {
            "text/plain": [
              "Text(0, 0.5, 'Cross-Validated Accuracy')"
            ]
          },
          "metadata": {
            "tags": []
          },
          "execution_count": 24
        },
        {
          "output_type": "display_data",
          "data": {
            "image/png": "[encoded data removed]",
            "text/plain": [
              "<Figure size 432x288 with 1 Axes>"
            ]
          },
          "metadata": {
            "tags": [],
            "needs_background": "light"
          }
        }
      ]
    },
    {
      "cell_type": "code",
      "metadata": {
        "id": "CvBcwY2-BI2G",
        "colab_type": "code",
        "outputId": "b2de8aff-d991-4893-b639-28d564b09d08",
        "colab": {
          "base_uri": "https://localhost:8080/",
          "height": 197
        }
      },
      "source": [
        "#Define the CV split\n",
        "split = StratifiedKFold(n_splits=5, shuffle=True)\n",
        "\n",
        "#Feature selection\n",
        "selector = SelectKBest(k = 20)\n",
        "\n",
        "# Defining the pipeline to avoid data leakage\n",
        "pipe = make_pipeline(selector, StandardScaler(), SVC(C = 20, kernel = 'rbf', probability = True))\n",
        "\n",
        "#Train and predict\n",
        "svc_prediction = cross_val_predict(estimator = pipe, X = X, y = Y, cv=split)\n",
        "\n",
        "#Print the results\n",
        "classes1 = {'NoFX':0,'Distortion':1,'Tremolo':2}\n",
        "print(classification_report(Y, svc_prediction, target_names = classes1.keys()))"
      ],
      "execution_count": 60,
      "outputs": [
        {
          "output_type": "stream",
          "text": [
            "              precision    recall  f1-score   support\n",
            "\n",
            "        NoFX       0.99      0.97      0.98       600\n",
            "  Distortion       1.00      1.00      1.00       600\n",
            "     Tremolo       0.97      0.99      0.98       600\n",
            "\n",
            "    accuracy                           0.99      1800\n",
            "   macro avg       0.99      0.99      0.99      1800\n",
            "weighted avg       0.99      0.99      0.99      1800\n",
            "\n"
          ],
          "name": "stdout"
        }
      ]
    },
    {
      "cell_type": "code",
      "metadata": {
        "id": "5GmKlw_kPvSH",
        "colab_type": "code",
        "outputId": "c6db5a00-8a3c-43ee-e3e5-52c331bb9748",
        "colab": {
          "base_uri": "https://localhost:8080/",
          "height": 71
        }
      },
      "source": [
        "#Confusion matrix \n",
        "confusion_matrix(Y, svc_prediction)"
      ],
      "execution_count": 61,
      "outputs": [
        {
          "output_type": "execute_result",
          "data": {
            "text/plain": [
              "array([[584,   0,  16],\n",
              "       [  0, 600,   0],\n",
              "       [  5,   0, 595]])"
            ]
          },
          "metadata": {
            "tags": []
          },
          "execution_count": 61
        }
      ]
    },
    {
      "cell_type": "markdown",
      "metadata": {
        "id": "XOGQp1MlgXKF",
        "colab_type": "text"
      },
      "source": [
        "#### K-Neighbors\n",
        "All features"
      ]
    },
    {
      "cell_type": "code",
      "metadata": {
        "id": "h1XzG8V8gfNd",
        "colab_type": "code",
        "colab": {}
      },
      "source": [
        "from sklearn.neighbors import KNeighborsClassifier"
      ],
      "execution_count": 0,
      "outputs": []
    },
    {
      "cell_type": "code",
      "metadata": {
        "id": "ftzZccZ8Bd_o",
        "colab_type": "code",
        "outputId": "9651c4b9-939c-482f-f88b-a02be02f7514",
        "colab": {
          "base_uri": "https://localhost:8080/",
          "height": 297
        }
      },
      "source": [
        "# Define the model\n",
        "split = StratifiedKFold(n_splits=5, shuffle=True)\n",
        "\n",
        "# Select number of neighbors (k)\n",
        "n_range = range(1,31)\n",
        "n_scores = []\n",
        "\n",
        "for n in n_range: \n",
        "    knn = KNeighborsClassifier(n_neighbors=n, weights='distance') \n",
        "\n",
        "    # Defining the pipeline to avoid data leakage\n",
        "    pipe = make_pipeline(knn)\n",
        "\n",
        "    scores = cross_val_score(pipe, X=X, y=Y, cv=split, scoring='accuracy')\n",
        "    n_scores.append(scores.mean())\n",
        "\n",
        "# Plot accuracy vs K neighbors selected\n",
        "plt.plot(n_range, n_scores)\n",
        "plt.xlabel('Value of K for KNN')\n",
        "plt.ylabel('Cross-Validated Accuracy')"
      ],
      "execution_count": 53,
      "outputs": [
        {
          "output_type": "execute_result",
          "data": {
            "text/plain": [
              "Text(0, 0.5, 'Cross-Validated Accuracy')"
            ]
          },
          "metadata": {
            "tags": []
          },
          "execution_count": 53
        },
        {
          "output_type": "display_data",
          "data": {
            "image/png": "[encoded data removed]",
            "text/plain": [
              "<Figure size 432x288 with 1 Axes>"
            ]
          },
          "metadata": {
            "tags": [],
            "needs_background": "light"
          }
        }
      ]
    },
    {
      "cell_type": "code",
      "metadata": {
        "id": "70X18k7NBPCe",
        "colab_type": "code",
        "outputId": "69be8c21-b6f7-4dd4-dbf1-4be57937e17a",
        "colab": {
          "base_uri": "https://localhost:8080/",
          "height": 197
        }
      },
      "source": [
        "# Define the model\n",
        "knn = KNeighborsClassifier(n_neighbors=6, weights='distance')\n",
        "split = StratifiedKFold(n_splits=5, shuffle=True)\n",
        "\n",
        "# Defining the pipeline to avoid data leakage\n",
        "pipe = make_pipeline(knn)\n",
        "\n",
        "# Train and predict\n",
        "knn_prediction = cross_val_predict(pipe, X=X, y=Y, cv=split)\n",
        "\n",
        "# Print the results\n",
        "classes1 = {'NoFX':0,'Distortion':1,'Tremolo':2}\n",
        "print(classification_report(Y, knn_prediction, target_names = classes1.keys()))"
      ],
      "execution_count": 63,
      "outputs": [
        {
          "output_type": "stream",
          "text": [
            "              precision    recall  f1-score   support\n",
            "\n",
            "        NoFX       0.87      0.88      0.87       600\n",
            "  Distortion       1.00      0.99      1.00       600\n",
            "     Tremolo       0.87      0.87      0.87       600\n",
            "\n",
            "    accuracy                           0.91      1800\n",
            "   macro avg       0.91      0.91      0.91      1800\n",
            "weighted avg       0.91      0.91      0.91      1800\n",
            "\n"
          ],
          "name": "stdout"
        }
      ]
    },
    {
      "cell_type": "code",
      "metadata": {
        "id": "UPqWpRA2MmH5",
        "colab_type": "code",
        "outputId": "6c471de7-29bb-4ca1-a98c-af5abc8f93c4",
        "colab": {
          "base_uri": "https://localhost:8080/",
          "height": 71
        }
      },
      "source": [
        "# Confusion matrix\n",
        "confusion_matrix(Y, knn_prediction)"
      ],
      "execution_count": 64,
      "outputs": [
        {
          "output_type": "execute_result",
          "data": {
            "text/plain": [
              "array([[526,   0,  74],\n",
              "       [  2, 596,   2],\n",
              "       [ 75,   1, 524]])"
            ]
          },
          "metadata": {
            "tags": []
          },
          "execution_count": 64
        }
      ]
    },
    {
      "cell_type": "markdown",
      "metadata": {
        "id": "fluqQhi7Uyba",
        "colab_type": "text"
      },
      "source": [
        "Feature selection"
      ]
    },
    {
      "cell_type": "code",
      "metadata": {
        "id": "IcO3xJLiB66c",
        "colab_type": "code",
        "outputId": "db650f90-c6eb-45ad-9dc7-812b79918cbb",
        "colab": {
          "base_uri": "https://localhost:8080/",
          "height": 297
        }
      },
      "source": [
        "# Define the CV split\n",
        "split = StratifiedKFold(n_splits=5, shuffle=True)\n",
        "\n",
        "# Define the model\n",
        "knn = KNeighborsClassifier(n_neighbors=6, weights='distance')\n",
        "\n",
        "# Selection of K best features:\n",
        "n_range = range(1, n_features)\n",
        "n_scores = []\n",
        "\n",
        "for i in n_range:\n",
        "    selector = SelectKBest(k = i)\n",
        "\n",
        "    # Defining the pipeline to avoid data leakage\n",
        "    pipe = make_pipeline(selector, knn)\n",
        "\n",
        "    scores = cross_val_score(pipe, X=X, y=Y, cv=split, scoring='accuracy')\n",
        "    n_scores.append(scores.mean())\n",
        "\n",
        "# Plot accuracy vs K features selected\n",
        "plt.plot(n_range, n_scores)\n",
        "plt.xlabel('K for Selecting K features')\n",
        "plt.ylabel('Cross-Validated Accuracy')"
      ],
      "execution_count": 57,
      "outputs": [
        {
          "output_type": "execute_result",
          "data": {
            "text/plain": [
              "Text(0, 0.5, 'Cross-Validated Accuracy')"
            ]
          },
          "metadata": {
            "tags": []
          },
          "execution_count": 57
        },
        {
          "output_type": "display_data",
          "data": {
            "image/png": "[encoded data removed]",
            "text/plain": [
              "<Figure size 432x288 with 1 Axes>"
            ]
          },
          "metadata": {
            "tags": [],
            "needs_background": "light"
          }
        }
      ]
    },
    {
      "cell_type": "code",
      "metadata": {
        "id": "rUik4u2iYegA",
        "colab_type": "code",
        "outputId": "b4b0051f-a465-45f9-a581-a842f45e2ea3",
        "colab": {
          "base_uri": "https://localhost:8080/",
          "height": 197
        }
      },
      "source": [
        "# Selection of K best features:\n",
        "selector = SelectKBest(k = 13)\n",
        "\n",
        "# Define the model\n",
        "knn = KNeighborsClassifier(n_neighbors=2, weights='distance')\n",
        "split = StratifiedKFold(n_splits=5, shuffle=True)\n",
        "pipe = make_pipeline(selector, knn)\n",
        "\n",
        "# Train and predict\n",
        "knn_prediction = cross_val_predict(pipe, X=X, y=Y, cv=split)\n",
        "\n",
        "# Print the results\n",
        "classes1 = {'NoFX':0,'Distortion':1,'Tremolo':2}\n",
        "print(classification_report(Y, knn_prediction, target_names = classes1.keys()))"
      ],
      "execution_count": 65,
      "outputs": [
        {
          "output_type": "stream",
          "text": [
            "              precision    recall  f1-score   support\n",
            "\n",
            "        NoFX       0.94      0.93      0.93       600\n",
            "  Distortion       1.00      1.00      1.00       600\n",
            "     Tremolo       0.93      0.94      0.93       600\n",
            "\n",
            "    accuracy                           0.95      1800\n",
            "   macro avg       0.95      0.95      0.95      1800\n",
            "weighted avg       0.95      0.95      0.95      1800\n",
            "\n"
          ],
          "name": "stdout"
        }
      ]
    },
    {
      "cell_type": "code",
      "metadata": {
        "id": "fg4ijmUBPwv4",
        "colab_type": "code",
        "outputId": "18f4269d-9f21-42b8-b738-f123475a0141",
        "colab": {
          "base_uri": "https://localhost:8080/",
          "height": 71
        }
      },
      "source": [
        "# Confusion matrix\n",
        "confusion_matrix(Y, knn_prediction)"
      ],
      "execution_count": 66,
      "outputs": [
        {
          "output_type": "execute_result",
          "data": {
            "text/plain": [
              "array([[555,   0,  45],\n",
              "       [  0, 600,   0],\n",
              "       [ 38,   0, 562]])"
            ]
          },
          "metadata": {
            "tags": []
          },
          "execution_count": 66
        }
      ]
    },
    {
      "cell_type": "markdown",
      "metadata": {
        "id": "vt3AvNIzU1D1",
        "colab_type": "text"
      },
      "source": [
        "#### Best features computation"
      ]
    },
    {
      "cell_type": "code",
      "metadata": {
        "id": "xhIsRik2U7xd",
        "colab_type": "code",
        "outputId": "16160bfe-b360-4413-d1aa-c8a2f5445d83",
        "colab": {
          "base_uri": "https://localhost:8080/",
          "height": 295
        }
      },
      "source": [
        "# Scoring\n",
        "slct = SelectKBest(k=\"all\")\n",
        "slct.fit(X_norm, Y)\n",
        "scores = slct.scores_\n",
        "\n",
        "# Sort features by score from largest to smallest\n",
        "named_scores = zip(feature_names, scores)\n",
        "sorted_named_scores = sorted(named_scores, key=lambda z: z[1], reverse=True)\n",
        " \n",
        "sorted_scores = [each[1] for each in sorted_named_scores]\n",
        "sorted_names = [each[0] for each in sorted_named_scores]\n",
        " \n",
        "y_pos = np.arange(len(feature_names))# drawing order from top to bottom\n",
        "\n",
        "# Plot\n",
        "fig, ax = plt.subplots()\n",
        "ax.barh(y_pos, sorted_scores, height=0.7, align='center', color='#AAAAAA', tick_label=sorted_names)\n",
        "ax.set_yticks(y_pos)\n",
        "ax.set_xlabel('Feature Score')\n",
        "ax.set_ylabel('Feature Name')\n",
        "ax.invert_yaxis()\n",
        "ax.set_title('F_classif scores (in SelectKBest) of the features.')\n",
        "\n",
        "# Add the value for every line\n",
        "for score, pos in zip(sorted_scores, y_pos):\n",
        "        ax.text(score + 20, pos, '%.1f' % score, ha='center', va='bottom', fontsize=8)"
      ],
      "execution_count": 67,
      "outputs": [
        {
          "output_type": "display_data",
          "data": {
            "image/png": "[encoded data removed]",
            "text/plain": [
              "<Figure size 432x288 with 1 Axes>"
            ]
          },
          "metadata": {
            "tags": [],
            "needs_background": "light"
          }
        }
      ]
    }
  ]
}